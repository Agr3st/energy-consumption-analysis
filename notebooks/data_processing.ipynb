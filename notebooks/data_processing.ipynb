{
 "cells": [
  {
   "cell_type": "markdown",
   "id": "8932912f-e32c-4b57-a776-560b94b7b75e",
   "metadata": {},
   "source": [
    "# Przetwarzanie surowych danych"
   ]
  },
  {
   "cell_type": "markdown",
   "id": "7e174e9a-ae4f-449f-9762-1f7a9945b047",
   "metadata": {},
   "source": [
    "## Import bibliotek"
   ]
  },
  {
   "cell_type": "code",
   "execution_count": 1,
   "id": "1c13242f-e5f9-4bd5-a9ff-dc27e0e6249e",
   "metadata": {},
   "outputs": [],
   "source": [
    "import pandas as pd\n",
    "import datetime"
   ]
  },
  {
   "cell_type": "markdown",
   "id": "f0b00a42-4fd8-47e1-9f51-ff618d80525f",
   "metadata": {},
   "source": [
    "## Wczytanie danych"
   ]
  },
  {
   "cell_type": "markdown",
   "id": "3af3b220-a46d-4d12-a28a-738e7fe8cfa1",
   "metadata": {},
   "source": [
    "### Dane dotyczące zużycia energii"
   ]
  },
  {
   "cell_type": "code",
   "execution_count": 2,
   "id": "9b8b6af2-69e9-46f9-ae19-943c1a82d943",
   "metadata": {},
   "outputs": [],
   "source": [
    "energy_data = pd.read_csv(\n",
    "    '../data/raw/energy_dataset.csv', \n",
    "    usecols=['time', 'total load actual']\n",
    ")"
   ]
  },
  {
   "cell_type": "code",
   "execution_count": 3,
   "id": "e53e0a45-4c98-4acb-a600-80e8856d8338",
   "metadata": {},
   "outputs": [
    {
     "name": "stdout",
     "output_type": "stream",
     "text": [
      "<class 'pandas.core.frame.DataFrame'>\n",
      "RangeIndex: 35064 entries, 0 to 35063\n",
      "Data columns (total 2 columns):\n",
      " #   Column             Non-Null Count  Dtype  \n",
      "---  ------             --------------  -----  \n",
      " 0   time               35064 non-null  object \n",
      " 1   total load actual  35028 non-null  float64\n",
      "dtypes: float64(1), object(1)\n",
      "memory usage: 548.0+ KB\n"
     ]
    }
   ],
   "source": [
    "energy_data.info()"
   ]
  },
  {
   "cell_type": "code",
   "execution_count": 4,
   "id": "3fc43318-e3e8-4c60-99f2-bb470cf0525d",
   "metadata": {},
   "outputs": [
    {
     "data": {
      "text/html": [
       "<div>\n",
       "<style scoped>\n",
       "    .dataframe tbody tr th:only-of-type {\n",
       "        vertical-align: middle;\n",
       "    }\n",
       "\n",
       "    .dataframe tbody tr th {\n",
       "        vertical-align: top;\n",
       "    }\n",
       "\n",
       "    .dataframe thead th {\n",
       "        text-align: right;\n",
       "    }\n",
       "</style>\n",
       "<table border=\"1\" class=\"dataframe\">\n",
       "  <thead>\n",
       "    <tr style=\"text-align: right;\">\n",
       "      <th></th>\n",
       "      <th>time</th>\n",
       "      <th>total load actual</th>\n",
       "    </tr>\n",
       "  </thead>\n",
       "  <tbody>\n",
       "    <tr>\n",
       "      <th>0</th>\n",
       "      <td>2015-01-01 00:00:00+01:00</td>\n",
       "      <td>25385.0</td>\n",
       "    </tr>\n",
       "    <tr>\n",
       "      <th>1</th>\n",
       "      <td>2015-01-01 01:00:00+01:00</td>\n",
       "      <td>24382.0</td>\n",
       "    </tr>\n",
       "    <tr>\n",
       "      <th>2</th>\n",
       "      <td>2015-01-01 02:00:00+01:00</td>\n",
       "      <td>22734.0</td>\n",
       "    </tr>\n",
       "    <tr>\n",
       "      <th>3</th>\n",
       "      <td>2015-01-01 03:00:00+01:00</td>\n",
       "      <td>21286.0</td>\n",
       "    </tr>\n",
       "    <tr>\n",
       "      <th>4</th>\n",
       "      <td>2015-01-01 04:00:00+01:00</td>\n",
       "      <td>20264.0</td>\n",
       "    </tr>\n",
       "  </tbody>\n",
       "</table>\n",
       "</div>"
      ],
      "text/plain": [
       "                        time  total load actual\n",
       "0  2015-01-01 00:00:00+01:00            25385.0\n",
       "1  2015-01-01 01:00:00+01:00            24382.0\n",
       "2  2015-01-01 02:00:00+01:00            22734.0\n",
       "3  2015-01-01 03:00:00+01:00            21286.0\n",
       "4  2015-01-01 04:00:00+01:00            20264.0"
      ]
     },
     "execution_count": 4,
     "metadata": {},
     "output_type": "execute_result"
    }
   ],
   "source": [
    "energy_data.head()"
   ]
  },
  {
   "cell_type": "markdown",
   "id": "88e0a362-798b-4620-a8db-9172b8c88d26",
   "metadata": {},
   "source": [
    "### Dane pogodowe"
   ]
  },
  {
   "cell_type": "code",
   "execution_count": 5,
   "id": "0869bc6d-8917-4479-9941-531f8d0505f4",
   "metadata": {},
   "outputs": [],
   "source": [
    "weather_data = pd.read_csv(\n",
    "    '../data/raw/weather_features.csv',\n",
    "    usecols=['dt_iso', 'city_name', 'temp', 'pressure', 'humidity', 'wind_speed', 'rain_1h', 'clouds_all']\n",
    ")"
   ]
  },
  {
   "cell_type": "code",
   "execution_count": 6,
   "id": "0f5bfb4b-02d3-4d0e-8e68-2e9e98777a5f",
   "metadata": {},
   "outputs": [
    {
     "name": "stdout",
     "output_type": "stream",
     "text": [
      "<class 'pandas.core.frame.DataFrame'>\n",
      "RangeIndex: 178396 entries, 0 to 178395\n",
      "Data columns (total 8 columns):\n",
      " #   Column      Non-Null Count   Dtype  \n",
      "---  ------      --------------   -----  \n",
      " 0   dt_iso      178396 non-null  object \n",
      " 1   city_name   178396 non-null  object \n",
      " 2   temp        178396 non-null  float64\n",
      " 3   pressure    178396 non-null  int64  \n",
      " 4   humidity    178396 non-null  int64  \n",
      " 5   wind_speed  178396 non-null  int64  \n",
      " 6   rain_1h     178396 non-null  float64\n",
      " 7   clouds_all  178396 non-null  int64  \n",
      "dtypes: float64(2), int64(4), object(2)\n",
      "memory usage: 10.9+ MB\n"
     ]
    }
   ],
   "source": [
    "weather_data.info()"
   ]
  },
  {
   "cell_type": "code",
   "execution_count": 7,
   "id": "6460283c-860a-4f57-a583-5ca61d55546e",
   "metadata": {},
   "outputs": [
    {
     "data": {
      "text/html": [
       "<div>\n",
       "<style scoped>\n",
       "    .dataframe tbody tr th:only-of-type {\n",
       "        vertical-align: middle;\n",
       "    }\n",
       "\n",
       "    .dataframe tbody tr th {\n",
       "        vertical-align: top;\n",
       "    }\n",
       "\n",
       "    .dataframe thead th {\n",
       "        text-align: right;\n",
       "    }\n",
       "</style>\n",
       "<table border=\"1\" class=\"dataframe\">\n",
       "  <thead>\n",
       "    <tr style=\"text-align: right;\">\n",
       "      <th></th>\n",
       "      <th>dt_iso</th>\n",
       "      <th>city_name</th>\n",
       "      <th>temp</th>\n",
       "      <th>pressure</th>\n",
       "      <th>humidity</th>\n",
       "      <th>wind_speed</th>\n",
       "      <th>rain_1h</th>\n",
       "      <th>clouds_all</th>\n",
       "    </tr>\n",
       "  </thead>\n",
       "  <tbody>\n",
       "    <tr>\n",
       "      <th>0</th>\n",
       "      <td>2015-01-01 00:00:00+01:00</td>\n",
       "      <td>Valencia</td>\n",
       "      <td>270.475</td>\n",
       "      <td>1001</td>\n",
       "      <td>77</td>\n",
       "      <td>1</td>\n",
       "      <td>0.0</td>\n",
       "      <td>0</td>\n",
       "    </tr>\n",
       "    <tr>\n",
       "      <th>1</th>\n",
       "      <td>2015-01-01 01:00:00+01:00</td>\n",
       "      <td>Valencia</td>\n",
       "      <td>270.475</td>\n",
       "      <td>1001</td>\n",
       "      <td>77</td>\n",
       "      <td>1</td>\n",
       "      <td>0.0</td>\n",
       "      <td>0</td>\n",
       "    </tr>\n",
       "    <tr>\n",
       "      <th>2</th>\n",
       "      <td>2015-01-01 02:00:00+01:00</td>\n",
       "      <td>Valencia</td>\n",
       "      <td>269.686</td>\n",
       "      <td>1002</td>\n",
       "      <td>78</td>\n",
       "      <td>0</td>\n",
       "      <td>0.0</td>\n",
       "      <td>0</td>\n",
       "    </tr>\n",
       "    <tr>\n",
       "      <th>3</th>\n",
       "      <td>2015-01-01 03:00:00+01:00</td>\n",
       "      <td>Valencia</td>\n",
       "      <td>269.686</td>\n",
       "      <td>1002</td>\n",
       "      <td>78</td>\n",
       "      <td>0</td>\n",
       "      <td>0.0</td>\n",
       "      <td>0</td>\n",
       "    </tr>\n",
       "    <tr>\n",
       "      <th>4</th>\n",
       "      <td>2015-01-01 04:00:00+01:00</td>\n",
       "      <td>Valencia</td>\n",
       "      <td>269.686</td>\n",
       "      <td>1002</td>\n",
       "      <td>78</td>\n",
       "      <td>0</td>\n",
       "      <td>0.0</td>\n",
       "      <td>0</td>\n",
       "    </tr>\n",
       "  </tbody>\n",
       "</table>\n",
       "</div>"
      ],
      "text/plain": [
       "                      dt_iso city_name     temp  pressure  humidity  \\\n",
       "0  2015-01-01 00:00:00+01:00  Valencia  270.475      1001        77   \n",
       "1  2015-01-01 01:00:00+01:00  Valencia  270.475      1001        77   \n",
       "2  2015-01-01 02:00:00+01:00  Valencia  269.686      1002        78   \n",
       "3  2015-01-01 03:00:00+01:00  Valencia  269.686      1002        78   \n",
       "4  2015-01-01 04:00:00+01:00  Valencia  269.686      1002        78   \n",
       "\n",
       "   wind_speed  rain_1h  clouds_all  \n",
       "0           1      0.0           0  \n",
       "1           1      0.0           0  \n",
       "2           0      0.0           0  \n",
       "3           0      0.0           0  \n",
       "4           0      0.0           0  "
      ]
     },
     "execution_count": 7,
     "metadata": {},
     "output_type": "execute_result"
    }
   ],
   "source": [
    "weather_data.head()"
   ]
  },
  {
   "cell_type": "markdown",
   "id": "02bc1f3b-2f77-4547-a1be-e70aff8e95b7",
   "metadata": {},
   "source": [
    "## Czyszczenie i przygotowanie danych"
   ]
  },
  {
   "cell_type": "markdown",
   "id": "169c2e03-38e3-4164-bf0c-4d7dc8df27e6",
   "metadata": {},
   "source": [
    "### Scalenie tabel"
   ]
  },
  {
   "cell_type": "code",
   "execution_count": 8,
   "id": "07e0e35a-a333-4cd9-be6a-45f079649257",
   "metadata": {},
   "outputs": [],
   "source": [
    "# Parsowanie czasu\n",
    "weather_data['dt_iso'] = pd.to_datetime(weather_data['dt_iso'], utc=True)\n",
    "energy_data['time'] = pd.to_datetime(energy_data['time'], utc=True)"
   ]
  },
  {
   "cell_type": "code",
   "execution_count": 9,
   "id": "be5631f8-6b60-41e9-b97b-a9580c561144",
   "metadata": {},
   "outputs": [
    {
     "data": {
      "text/plain": [
       "array(['Valencia', 'Madrid', 'Bilbao', ' Barcelona', 'Seville'],\n",
       "      dtype=object)"
      ]
     },
     "execution_count": 9,
     "metadata": {},
     "output_type": "execute_result"
    }
   ],
   "source": [
    "weather_data['city_name'].unique()"
   ]
  },
  {
   "cell_type": "markdown",
   "id": "4ccd5eff-111d-461d-91a0-1ece7c0e335d",
   "metadata": {},
   "source": [
    "Zużycie energii dotyczy całej Hiszpanii, zatem dane z 5 największych miast zostaną uśrednione, aby otrzymać pogląd całościowy."
   ]
  },
  {
   "cell_type": "code",
   "execution_count": 10,
   "id": "f0e88ace-4a2a-46f9-9d95-29376613028e",
   "metadata": {},
   "outputs": [],
   "source": [
    "# Grupowanie po czasie – średnia z 5 miast na każdą godzinę\n",
    "weather_avg = (\n",
    "    weather_data\n",
    "    .drop('city_name', axis=1)\n",
    "    .groupby(['dt_iso'])\n",
    "    .mean()\n",
    "    .reset_index()\n",
    "    .rename(columns={'dt_iso': 'time'})\n",
    ")"
   ]
  },
  {
   "cell_type": "code",
   "execution_count": 11,
   "id": "1940f3f9-0a41-4119-b51e-4f9d1ebcdd05",
   "metadata": {},
   "outputs": [],
   "source": [
    "# Zmiana nazwy kolumny w energy_data\n",
    "energy_data.rename(columns={'total load actual': 'total_load'}, inplace=True)"
   ]
  },
  {
   "cell_type": "code",
   "execution_count": 12,
   "id": "43914972-17d9-4f26-be8c-f36fb803fd35",
   "metadata": {},
   "outputs": [
    {
     "data": {
      "text/html": [
       "<div>\n",
       "<style scoped>\n",
       "    .dataframe tbody tr th:only-of-type {\n",
       "        vertical-align: middle;\n",
       "    }\n",
       "\n",
       "    .dataframe tbody tr th {\n",
       "        vertical-align: top;\n",
       "    }\n",
       "\n",
       "    .dataframe thead th {\n",
       "        text-align: right;\n",
       "    }\n",
       "</style>\n",
       "<table border=\"1\" class=\"dataframe\">\n",
       "  <thead>\n",
       "    <tr style=\"text-align: right;\">\n",
       "      <th></th>\n",
       "      <th>time</th>\n",
       "      <th>total_load</th>\n",
       "      <th>temp</th>\n",
       "      <th>pressure</th>\n",
       "      <th>humidity</th>\n",
       "      <th>wind_speed</th>\n",
       "      <th>rain_1h</th>\n",
       "      <th>clouds_all</th>\n",
       "    </tr>\n",
       "  </thead>\n",
       "  <tbody>\n",
       "    <tr>\n",
       "      <th>0</th>\n",
       "      <td>2014-12-31 23:00:00+00:00</td>\n",
       "      <td>25385.0</td>\n",
       "      <td>272.491463</td>\n",
       "      <td>1016.4</td>\n",
       "      <td>82.4</td>\n",
       "      <td>2.0</td>\n",
       "      <td>0.0</td>\n",
       "      <td>0.0</td>\n",
       "    </tr>\n",
       "    <tr>\n",
       "      <th>1</th>\n",
       "      <td>2015-01-01 00:00:00+00:00</td>\n",
       "      <td>24382.0</td>\n",
       "      <td>272.512700</td>\n",
       "      <td>1016.2</td>\n",
       "      <td>82.4</td>\n",
       "      <td>2.0</td>\n",
       "      <td>0.0</td>\n",
       "      <td>0.0</td>\n",
       "    </tr>\n",
       "    <tr>\n",
       "      <th>2</th>\n",
       "      <td>2015-01-01 01:00:00+00:00</td>\n",
       "      <td>22734.0</td>\n",
       "      <td>272.099137</td>\n",
       "      <td>1016.8</td>\n",
       "      <td>82.0</td>\n",
       "      <td>2.4</td>\n",
       "      <td>0.0</td>\n",
       "      <td>0.0</td>\n",
       "    </tr>\n",
       "    <tr>\n",
       "      <th>3</th>\n",
       "      <td>2015-01-01 02:00:00+00:00</td>\n",
       "      <td>21286.0</td>\n",
       "      <td>272.089469</td>\n",
       "      <td>1016.6</td>\n",
       "      <td>82.0</td>\n",
       "      <td>2.4</td>\n",
       "      <td>0.0</td>\n",
       "      <td>0.0</td>\n",
       "    </tr>\n",
       "    <tr>\n",
       "      <th>4</th>\n",
       "      <td>2015-01-01 03:00:00+00:00</td>\n",
       "      <td>20264.0</td>\n",
       "      <td>272.145900</td>\n",
       "      <td>1016.6</td>\n",
       "      <td>82.0</td>\n",
       "      <td>2.4</td>\n",
       "      <td>0.0</td>\n",
       "      <td>0.0</td>\n",
       "    </tr>\n",
       "  </tbody>\n",
       "</table>\n",
       "</div>"
      ],
      "text/plain": [
       "                       time  total_load        temp  pressure  humidity  \\\n",
       "0 2014-12-31 23:00:00+00:00     25385.0  272.491463    1016.4      82.4   \n",
       "1 2015-01-01 00:00:00+00:00     24382.0  272.512700    1016.2      82.4   \n",
       "2 2015-01-01 01:00:00+00:00     22734.0  272.099137    1016.8      82.0   \n",
       "3 2015-01-01 02:00:00+00:00     21286.0  272.089469    1016.6      82.0   \n",
       "4 2015-01-01 03:00:00+00:00     20264.0  272.145900    1016.6      82.0   \n",
       "\n",
       "   wind_speed  rain_1h  clouds_all  \n",
       "0         2.0      0.0         0.0  \n",
       "1         2.0      0.0         0.0  \n",
       "2         2.4      0.0         0.0  \n",
       "3         2.4      0.0         0.0  \n",
       "4         2.4      0.0         0.0  "
      ]
     },
     "execution_count": 12,
     "metadata": {},
     "output_type": "execute_result"
    }
   ],
   "source": [
    "# Scalanie\n",
    "df_merged = pd.merge(energy_data, weather_avg, on='time', how='inner')\n",
    "df_merged.head()"
   ]
  },
  {
   "cell_type": "markdown",
   "id": "44543e73-d497-45e4-9cee-6554a5ea8442",
   "metadata": {},
   "source": [
    "### Brakujące wartości"
   ]
  },
  {
   "cell_type": "code",
   "execution_count": 13,
   "id": "2e012c92-7b0a-45a0-b682-fe7a1acf1ef5",
   "metadata": {},
   "outputs": [
    {
     "data": {
      "text/plain": [
       "time           0\n",
       "total_load    36\n",
       "temp           0\n",
       "pressure       0\n",
       "humidity       0\n",
       "wind_speed     0\n",
       "rain_1h        0\n",
       "clouds_all     0\n",
       "dtype: int64"
      ]
     },
     "execution_count": 13,
     "metadata": {},
     "output_type": "execute_result"
    }
   ],
   "source": [
    "df_merged.isnull().sum()"
   ]
  },
  {
   "cell_type": "code",
   "execution_count": 14,
   "id": "37699bd9-273b-4c8e-a2b1-1788922c7a5b",
   "metadata": {},
   "outputs": [
    {
     "data": {
      "text/html": [
       "<div>\n",
       "<style scoped>\n",
       "    .dataframe tbody tr th:only-of-type {\n",
       "        vertical-align: middle;\n",
       "    }\n",
       "\n",
       "    .dataframe tbody tr th {\n",
       "        vertical-align: top;\n",
       "    }\n",
       "\n",
       "    .dataframe thead th {\n",
       "        text-align: right;\n",
       "    }\n",
       "</style>\n",
       "<table border=\"1\" class=\"dataframe\">\n",
       "  <thead>\n",
       "    <tr style=\"text-align: right;\">\n",
       "      <th></th>\n",
       "      <th>time</th>\n",
       "      <th>total_load</th>\n",
       "      <th>temp</th>\n",
       "      <th>pressure</th>\n",
       "      <th>humidity</th>\n",
       "      <th>wind_speed</th>\n",
       "      <th>rain_1h</th>\n",
       "      <th>clouds_all</th>\n",
       "    </tr>\n",
       "  </thead>\n",
       "  <tbody>\n",
       "    <tr>\n",
       "      <th>108</th>\n",
       "      <td>2015-01-05 11:00:00+00:00</td>\n",
       "      <td>NaN</td>\n",
       "      <td>283.588731</td>\n",
       "      <td>1012.6</td>\n",
       "      <td>76.4</td>\n",
       "      <td>1.2</td>\n",
       "      <td>0.00</td>\n",
       "      <td>13.0</td>\n",
       "    </tr>\n",
       "    <tr>\n",
       "      <th>109</th>\n",
       "      <td>2015-01-05 12:00:00+00:00</td>\n",
       "      <td>NaN</td>\n",
       "      <td>284.470200</td>\n",
       "      <td>1012.2</td>\n",
       "      <td>74.2</td>\n",
       "      <td>2.0</td>\n",
       "      <td>0.06</td>\n",
       "      <td>21.2</td>\n",
       "    </tr>\n",
       "  </tbody>\n",
       "</table>\n",
       "</div>"
      ],
      "text/plain": [
       "                         time  total_load        temp  pressure  humidity  \\\n",
       "108 2015-01-05 11:00:00+00:00         NaN  283.588731    1012.6      76.4   \n",
       "109 2015-01-05 12:00:00+00:00         NaN  284.470200    1012.2      74.2   \n",
       "\n",
       "     wind_speed  rain_1h  clouds_all  \n",
       "108         1.2     0.00        13.0  \n",
       "109         2.0     0.06        21.2  "
      ]
     },
     "execution_count": 14,
     "metadata": {},
     "output_type": "execute_result"
    }
   ],
   "source": [
    "df_merged[df_merged['total_load'].isnull()].head(2)"
   ]
  },
  {
   "cell_type": "code",
   "execution_count": 15,
   "id": "cd50f1e8-b44f-4e06-ba1f-214f2f929436",
   "metadata": {},
   "outputs": [
    {
     "data": {
      "text/plain": [
       "time          0\n",
       "total_load    0\n",
       "temp          0\n",
       "pressure      0\n",
       "humidity      0\n",
       "wind_speed    0\n",
       "rain_1h       0\n",
       "clouds_all    0\n",
       "dtype: int64"
      ]
     },
     "execution_count": 15,
     "metadata": {},
     "output_type": "execute_result"
    }
   ],
   "source": [
    "# Uzupełnienie brakujących wartości przy pomocy interpolacji czasowej na podstawie sąsiednich wierszy\n",
    "df_merged = df_merged.set_index('time')\n",
    "df_merged['total_load'] = df_merged['total_load'].interpolate(method='time')\n",
    "df_merged = df_merged.reset_index()\n",
    "\n",
    "df_merged.isnull().sum()"
   ]
  },
  {
   "cell_type": "markdown",
   "id": "80c4d780-f83d-4360-87b3-574283d90bf9",
   "metadata": {},
   "source": [
    "### Przygotowanie nowej tablicy"
   ]
  },
  {
   "cell_type": "code",
   "execution_count": 16,
   "id": "f6054e0d-268c-4d9f-9e38-36033e495964",
   "metadata": {},
   "outputs": [
    {
     "data": {
      "text/plain": [
       "array([ 1, 24, 23])"
      ]
     },
     "execution_count": 16,
     "metadata": {},
     "output_type": "execute_result"
    }
   ],
   "source": [
    "# Sprawdzenie, czy dla danego dnia są wiersze dla każdej godziny\n",
    "df_merged.groupby(df_merged['time'].dt.date)['time'].count().unique()"
   ]
  },
  {
   "cell_type": "code",
   "execution_count": 17,
   "id": "d8f9a6c7-fc68-401d-83bf-d4e66c07ce0a",
   "metadata": {},
   "outputs": [
    {
     "data": {
      "text/html": [
       "<div>\n",
       "<style scoped>\n",
       "    .dataframe tbody tr th:only-of-type {\n",
       "        vertical-align: middle;\n",
       "    }\n",
       "\n",
       "    .dataframe tbody tr th {\n",
       "        vertical-align: top;\n",
       "    }\n",
       "\n",
       "    .dataframe thead th {\n",
       "        text-align: right;\n",
       "    }\n",
       "</style>\n",
       "<table border=\"1\" class=\"dataframe\">\n",
       "  <thead>\n",
       "    <tr style=\"text-align: right;\">\n",
       "      <th></th>\n",
       "      <th>time</th>\n",
       "      <th>total_load</th>\n",
       "      <th>temp</th>\n",
       "      <th>pressure</th>\n",
       "      <th>humidity</th>\n",
       "      <th>wind_speed</th>\n",
       "      <th>rain_1h</th>\n",
       "      <th>clouds_all</th>\n",
       "    </tr>\n",
       "  </thead>\n",
       "  <tbody>\n",
       "    <tr>\n",
       "      <th>0</th>\n",
       "      <td>2014-12-31 23:00:00+00:00</td>\n",
       "      <td>25385.0</td>\n",
       "      <td>272.491463</td>\n",
       "      <td>1016.4</td>\n",
       "      <td>82.4</td>\n",
       "      <td>2.0</td>\n",
       "      <td>0.0</td>\n",
       "      <td>0.0</td>\n",
       "    </tr>\n",
       "    <tr>\n",
       "      <th>1</th>\n",
       "      <td>2015-01-01 00:00:00+00:00</td>\n",
       "      <td>24382.0</td>\n",
       "      <td>272.512700</td>\n",
       "      <td>1016.2</td>\n",
       "      <td>82.4</td>\n",
       "      <td>2.0</td>\n",
       "      <td>0.0</td>\n",
       "      <td>0.0</td>\n",
       "    </tr>\n",
       "  </tbody>\n",
       "</table>\n",
       "</div>"
      ],
      "text/plain": [
       "                       time  total_load        temp  pressure  humidity  \\\n",
       "0 2014-12-31 23:00:00+00:00     25385.0  272.491463    1016.4      82.4   \n",
       "1 2015-01-01 00:00:00+00:00     24382.0  272.512700    1016.2      82.4   \n",
       "\n",
       "   wind_speed  rain_1h  clouds_all  \n",
       "0         2.0      0.0         0.0  \n",
       "1         2.0      0.0         0.0  "
      ]
     },
     "metadata": {},
     "output_type": "display_data"
    },
    {
     "data": {
      "text/html": [
       "<div>\n",
       "<style scoped>\n",
       "    .dataframe tbody tr th:only-of-type {\n",
       "        vertical-align: middle;\n",
       "    }\n",
       "\n",
       "    .dataframe tbody tr th {\n",
       "        vertical-align: top;\n",
       "    }\n",
       "\n",
       "    .dataframe thead th {\n",
       "        text-align: right;\n",
       "    }\n",
       "</style>\n",
       "<table border=\"1\" class=\"dataframe\">\n",
       "  <thead>\n",
       "    <tr style=\"text-align: right;\">\n",
       "      <th></th>\n",
       "      <th>time</th>\n",
       "      <th>total_load</th>\n",
       "      <th>temp</th>\n",
       "      <th>pressure</th>\n",
       "      <th>humidity</th>\n",
       "      <th>wind_speed</th>\n",
       "      <th>rain_1h</th>\n",
       "      <th>clouds_all</th>\n",
       "    </tr>\n",
       "  </thead>\n",
       "  <tbody>\n",
       "    <tr>\n",
       "      <th>35062</th>\n",
       "      <td>2018-12-31 21:00:00+00:00</td>\n",
       "      <td>25801.0</td>\n",
       "      <td>279.718</td>\n",
       "      <td>1030.2</td>\n",
       "      <td>70.0</td>\n",
       "      <td>2.8</td>\n",
       "      <td>0.0</td>\n",
       "      <td>0.0</td>\n",
       "    </tr>\n",
       "    <tr>\n",
       "      <th>35063</th>\n",
       "      <td>2018-12-31 22:00:00+00:00</td>\n",
       "      <td>24455.0</td>\n",
       "      <td>278.798</td>\n",
       "      <td>1030.2</td>\n",
       "      <td>82.4</td>\n",
       "      <td>2.6</td>\n",
       "      <td>0.0</td>\n",
       "      <td>0.0</td>\n",
       "    </tr>\n",
       "  </tbody>\n",
       "</table>\n",
       "</div>"
      ],
      "text/plain": [
       "                           time  total_load     temp  pressure  humidity  \\\n",
       "35062 2018-12-31 21:00:00+00:00     25801.0  279.718    1030.2      70.0   \n",
       "35063 2018-12-31 22:00:00+00:00     24455.0  278.798    1030.2      82.4   \n",
       "\n",
       "       wind_speed  rain_1h  clouds_all  \n",
       "35062         2.8      0.0         0.0  \n",
       "35063         2.6      0.0         0.0  "
      ]
     },
     "metadata": {},
     "output_type": "display_data"
    }
   ],
   "source": [
    "# Szukanie niepełnych dni\n",
    "display(df_merged.head(2))\n",
    "display(df_merged.tail(2))"
   ]
  },
  {
   "cell_type": "code",
   "execution_count": 18,
   "id": "2e64e7f6-097c-4caf-98dd-028aeef298f4",
   "metadata": {},
   "outputs": [],
   "source": [
    "# Usunięcie wiersza z rokiem 2014\n",
    "df_merged = df_merged.iloc[1:].reset_index(drop=True)\n",
    "\n",
    "# Sztuczne dodanie godziny 23 do wiersza z 2018-12-31\n",
    "last_2018_row = df_merged[df_merged['time'].dt.year == 2018].iloc[-1].copy()\n",
    "last_time = last_2018_row['time']\n",
    "last_time = last_time.replace(hour=23)\n",
    "last_2018_row['time'] = last_time\n",
    "\n",
    "# Dodaj nowy wiersz do DataFrame\n",
    "df_merged = pd.concat([df_merged, pd.DataFrame([last_2018_row])], ignore_index=True)"
   ]
  },
  {
   "cell_type": "code",
   "execution_count": 19,
   "id": "bd2ee074-d5b5-42a6-bf19-4d9447210ea8",
   "metadata": {},
   "outputs": [
    {
     "data": {
      "text/html": [
       "<div>\n",
       "<style scoped>\n",
       "    .dataframe tbody tr th:only-of-type {\n",
       "        vertical-align: middle;\n",
       "    }\n",
       "\n",
       "    .dataframe tbody tr th {\n",
       "        vertical-align: top;\n",
       "    }\n",
       "\n",
       "    .dataframe thead th {\n",
       "        text-align: right;\n",
       "    }\n",
       "</style>\n",
       "<table border=\"1\" class=\"dataframe\">\n",
       "  <thead>\n",
       "    <tr style=\"text-align: right;\">\n",
       "      <th></th>\n",
       "      <th>time</th>\n",
       "      <th>total_load</th>\n",
       "      <th>temp</th>\n",
       "      <th>pressure</th>\n",
       "      <th>humidity</th>\n",
       "      <th>wind_speed</th>\n",
       "      <th>rain_1h</th>\n",
       "      <th>clouds_all</th>\n",
       "    </tr>\n",
       "  </thead>\n",
       "  <tbody>\n",
       "    <tr>\n",
       "      <th>0</th>\n",
       "      <td>2015-01-01 00:00:00+00:00</td>\n",
       "      <td>24382.0</td>\n",
       "      <td>272.512700</td>\n",
       "      <td>1016.2</td>\n",
       "      <td>82.4</td>\n",
       "      <td>2.0</td>\n",
       "      <td>0.0</td>\n",
       "      <td>0.0</td>\n",
       "    </tr>\n",
       "    <tr>\n",
       "      <th>1</th>\n",
       "      <td>2015-01-01 01:00:00+00:00</td>\n",
       "      <td>22734.0</td>\n",
       "      <td>272.099137</td>\n",
       "      <td>1016.8</td>\n",
       "      <td>82.0</td>\n",
       "      <td>2.4</td>\n",
       "      <td>0.0</td>\n",
       "      <td>0.0</td>\n",
       "    </tr>\n",
       "  </tbody>\n",
       "</table>\n",
       "</div>"
      ],
      "text/plain": [
       "                       time  total_load        temp  pressure  humidity  \\\n",
       "0 2015-01-01 00:00:00+00:00     24382.0  272.512700    1016.2      82.4   \n",
       "1 2015-01-01 01:00:00+00:00     22734.0  272.099137    1016.8      82.0   \n",
       "\n",
       "   wind_speed  rain_1h  clouds_all  \n",
       "0         2.0      0.0         0.0  \n",
       "1         2.4      0.0         0.0  "
      ]
     },
     "metadata": {},
     "output_type": "display_data"
    },
    {
     "data": {
      "text/html": [
       "<div>\n",
       "<style scoped>\n",
       "    .dataframe tbody tr th:only-of-type {\n",
       "        vertical-align: middle;\n",
       "    }\n",
       "\n",
       "    .dataframe tbody tr th {\n",
       "        vertical-align: top;\n",
       "    }\n",
       "\n",
       "    .dataframe thead th {\n",
       "        text-align: right;\n",
       "    }\n",
       "</style>\n",
       "<table border=\"1\" class=\"dataframe\">\n",
       "  <thead>\n",
       "    <tr style=\"text-align: right;\">\n",
       "      <th></th>\n",
       "      <th>time</th>\n",
       "      <th>total_load</th>\n",
       "      <th>temp</th>\n",
       "      <th>pressure</th>\n",
       "      <th>humidity</th>\n",
       "      <th>wind_speed</th>\n",
       "      <th>rain_1h</th>\n",
       "      <th>clouds_all</th>\n",
       "    </tr>\n",
       "  </thead>\n",
       "  <tbody>\n",
       "    <tr>\n",
       "      <th>35062</th>\n",
       "      <td>2018-12-31 22:00:00+00:00</td>\n",
       "      <td>24455.0</td>\n",
       "      <td>278.798</td>\n",
       "      <td>1030.2</td>\n",
       "      <td>82.4</td>\n",
       "      <td>2.6</td>\n",
       "      <td>0.0</td>\n",
       "      <td>0.0</td>\n",
       "    </tr>\n",
       "    <tr>\n",
       "      <th>35063</th>\n",
       "      <td>2018-12-31 23:00:00+00:00</td>\n",
       "      <td>24455.0</td>\n",
       "      <td>278.798</td>\n",
       "      <td>1030.2</td>\n",
       "      <td>82.4</td>\n",
       "      <td>2.6</td>\n",
       "      <td>0.0</td>\n",
       "      <td>0.0</td>\n",
       "    </tr>\n",
       "  </tbody>\n",
       "</table>\n",
       "</div>"
      ],
      "text/plain": [
       "                           time  total_load     temp  pressure  humidity  \\\n",
       "35062 2018-12-31 22:00:00+00:00     24455.0  278.798    1030.2      82.4   \n",
       "35063 2018-12-31 23:00:00+00:00     24455.0  278.798    1030.2      82.4   \n",
       "\n",
       "       wind_speed  rain_1h  clouds_all  \n",
       "35062         2.6      0.0         0.0  \n",
       "35063         2.6      0.0         0.0  "
      ]
     },
     "metadata": {},
     "output_type": "display_data"
    }
   ],
   "source": [
    "display(df_merged.head(2))\n",
    "display(df_merged.tail(2))"
   ]
  },
  {
   "cell_type": "markdown",
   "id": "a9e2d63d-d2d2-4feb-9c7d-4ca83e71f2f3",
   "metadata": {},
   "source": [
    "## Zapis przetworzonych danych"
   ]
  },
  {
   "cell_type": "code",
   "execution_count": 20,
   "id": "12ba7a60-3a64-4b3b-9014-5ba06b9cb819",
   "metadata": {},
   "outputs": [],
   "source": [
    "df_merged.to_csv('../data/processed/energy_and_weather_data.csv', index=False)"
   ]
  }
 ],
 "metadata": {
  "kernelspec": {
   "display_name": "Python DataScience",
   "language": "python",
   "name": "datascience"
  },
  "language_info": {
   "codemirror_mode": {
    "name": "ipython",
    "version": 3
   },
   "file_extension": ".py",
   "mimetype": "text/x-python",
   "name": "python",
   "nbconvert_exporter": "python",
   "pygments_lexer": "ipython3",
   "version": "3.12.9"
  }
 },
 "nbformat": 4,
 "nbformat_minor": 5
}
